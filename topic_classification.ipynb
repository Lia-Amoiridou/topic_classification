{
 "cells": [
  {
   "cell_type": "markdown",
   "metadata": {},
   "source": [
    "# Topic Classification with a Feedforward Network\n",
    "\n",
    "\n",
    "### \n",
    "\n",
    "\n",
    "The goal of this task is to develop a Feedforward neural network for topic classification. \n",
    "\n",
    "\n",
    "\n",
    "For that purpose, you will implement:\n",
    "\n",
    "- Text processing methods for transforming raw text data into input vectors for your network  \n",
    "\n",
    "\n",
    "- A Feedforward network consisting of:\n",
    "    - **One-hot** input layer mapping words into an **Embedding weight matrix** \n",
    "    - **One hidden layer** computing the mean embedding vector of all words in input followed by a **ReLU activation function** \n",
    "    - **Output layer** with a **softmax** activation. \n",
    "\n",
    "\n",
    "- The Stochastic Gradient Descent (SGD) algorithm with **back-propagation** to learn the weights of your Neural network. Your algorithm should:\n",
    "    - Use (and minimise) the **Categorical Cross-entropy loss** function \n",
    "    - Perform a **Forward pass** to compute intermediate outputs \n",
    "    - Perform a **Backward pass** to compute gradients and update all sets of weights \n",
    "    - Implement and use **Dropout** after each hidden layer for regularisation \n",
    "\n",
    "\n",
    "\n",
    "- Discuss how did you choose hyperparameters? You can tune the learning rate (hint: choose small values), embedding size {e.g. 50, 300, 500} and the dropout rate {e.g. 0.2, 0.5}. Please use tables or graphs to show training and validation performance for each hyperparameter combination  . \n",
    "\n",
    "\n",
    "\n",
    "- After training a model, plot the learning process (i.e. training and validation loss in each epoch) using a line plot and report accuracy. Does your model overfit, underfit or is about right? .\n",
    "\n",
    "\n",
    "\n",
    "- Re-train your network by using pre-trained embeddings ([GloVe](https://nlp.stanford.edu/projects/glove/)) trained on large corpora. Instead of randomly initialising the embedding weights matrix, you should initialise it with the pre-trained weights. During training, you should not update them (i.e. weight freezing) and backprop should stop before computing gradients for updating embedding weights. Report results by performing hyperparameter tuning and plotting the learning process. Do you get better performance? .\n",
    "\n",
    "\n",
    "\n",
    "- Extend you Feedforward network by adding more hidden layers (e.g. one more or two). How does it affect the performance? Note: You need to repeat hyperparameter tuning, but the number of combinations grows exponentially. Therefore, you need to choose a subset of all possible combinations \n",
    "\n",
    "\n",
    "- Provide well documented and commented code describing all of your choices. In general, you are free to make decisions about text processing (e.g. punctuation, numbers, vocabulary size) and hyperparameter values. We expect to see justifications and discussion for all of your choices. You must provide detailed explanations of your implementation, provide a detailed analysis of the results (e.g. why a model performs better than other models etc.) including error analyses (e.g. examples and discussion/analysis of missclasifications etc.)  . \n",
    "\n",
    "\n",
    "\n",
    "- Provide efficient solutions by using Numpy arrays when possible. Executing the whole notebook with your code should not take more than 10 minutes on any standard computer (e.g. Intel Core i5 CPU, 8 or 16GB RAM) excluding hyperparameter tuning runs and loading the pretrained vectors. You can find tips in Lab 1 . \n",
    "\n",
    "\n",
    "\n",
    "### Data \n",
    "\n",
    "The data you will use for the task is a subset of the [AG News Corpus](http://groups.di.unipi.it/~gulli/AG_corpus_of_news_articles.html) and you can find it in the `./data_topic` folder in CSV format:\n",
    "\n",
    "- `data_topic/train.csv`: contains 2,400 news articles, 800 for each class to be used for training.\n",
    "- `data_topic/dev.csv`: contains 150 news articles, 50 for each class to be used for hyperparameter selection and monitoring the training process.\n",
    "- `data_topic/test.csv`: contains 900 news articles, 300 for each class to be used for testing.\n",
    "\n",
    "Class 1: Politics, Class 2: Sports, Class 3: Economy\n",
    "\n",
    "### Pre-trained Embeddings\n",
    "\n",
    "You can download pre-trained GloVe embeddings trained on Common Crawl (840B tokens, 2.2M vocab, cased, 300d vectors, 2.03 GB download) from [here](http://nlp.stanford.edu/data/glove.840B.300d.zip). No need to unzip, the file is large.\n",
    "\n",
    "### Save Memory\n",
    "\n",
    "To save RAM, when you finish each experiment you can delete the weights of your network using `del W` followed by Python's garbage collector `gc.collect()`\n",
    "\n",
    "\n"
   ]
  },
  {
   "cell_type": "markdown",
   "metadata": {},
   "source": [
    "### Submission Instructions\n",
    "\n",
    "You **must** submit a Jupyter Notebook file (assignment_yourusername.ipynb) and an exported PDF version (you can do it from Jupyter: `File->Download as->PDF via Latex`, you need to have a Latex distribution installed e.g. MikTex or MacTex and pandoc). If you are unable to export the pdf via Latex, you can print the notebook web page to a pdf file from your browser (e.g. on Firefox: File->Print->Save to PDF).\n",
    "\n",
    "\n",
    "You are advised to follow the code structure given in this notebook by completing all given funtions. You can also write any auxilliary/helper functions (and arguments for the functions) that you might need but note that you can provide a full solution without any such functions. Similarly, you can just use only the packages imported below but you are free to use any functionality from the [Python Standard Library](https://docs.python.org/3/library/index.html), NumPy, SciPy (excluding built-in softmax funtcions) and Pandas. You are **not allowed to use any third-party library** such as Scikit-learn (apart from metric functions already provided), NLTK, Spacy, Keras, Pytorch etc.. You should mention if you've used Windows to write and test your code because we mostly use Unix based machines for marking (e.g. Ubuntu, MacOS). \n",
    "\n",
    "There is no single correct answer on what your accuracy should be, but correct implementations usually achieve F1-scores around 80\\% or higher. The quality of the analysis of the results and discussion is as important as the implementation and accuracy of your models. Please be brief and consice in your discussion and analyses. \n",
    "\n",
    "This assignment will be marked out of 30. It is worth 30\\% of your final grade in the module.\n",
    "\n",
    "The deadline for this assignment is **23:59 on Mon, 26 Apr 2023** and it needs to be submitted via Blackboard. Standard departmental penalties for lateness will be applied. We use a range of strategies to **detect [unfair means](https://www.sheffield.ac.uk/ssid/unfair-means/index)**, including Turnitin which helps detect plagiarism. Use of unfair means would result in getting a failing grade.\n",
    "\n"
   ]
  },
  {
   "cell_type": "code",
   "execution_count": 1,
   "metadata": {
    "ExecuteTime": {
     "end_time": "2020-04-02T15:00:18.625532Z",
     "start_time": "2020-04-02T15:00:17.377733Z"
    },
    "scrolled": true
   },
   "outputs": [],
   "source": [
    "import pandas as pd\n",
    "import numpy as np\n",
    "from collections import Counter\n",
    "import re\n",
    "import matplotlib.pyplot as plt\n",
    "from sklearn.metrics import accuracy_score, precision_score, recall_score, f1_score\n",
    "import random\n",
    "from time import localtime, strftime\n",
    "from scipy.stats import spearmanr,pearsonr\n",
    "import zipfile\n",
    "import gc\n",
    "\n",
    "# fixing random seed for reproducibility\n",
    "random.seed(123)\n",
    "np.random.seed(123)\n"
   ]
  },
  {
   "cell_type": "markdown",
   "metadata": {},
   "source": [
    "## Transform Raw texts into training and development data\n",
    "\n",
    "First, you need to load the training, development and test sets from their corresponding CSV files (tip: you can use Pandas dataframes)."
   ]
  },
  {
   "cell_type": "code",
   "execution_count": 2,
   "metadata": {
    "ExecuteTime": {
     "end_time": "2020-04-02T14:26:39.748484Z",
     "start_time": "2020-04-02T14:26:39.727404Z"
    },
    "scrolled": true
   },
   "outputs": [
    {
     "name": "stdout",
     "output_type": "stream",
     "text": [
      "<class 'pandas.core.frame.DataFrame'>\n",
      "RangeIndex: 2400 entries, 0 to 2399\n",
      "Data columns (total 2 columns):\n",
      " #   Column    Non-Null Count  Dtype \n",
      "---  ------    --------------  ----- \n",
      " 0   label     2400 non-null   int64 \n",
      " 1   raw_text  2400 non-null   object\n",
      "dtypes: int64(1), object(1)\n",
      "memory usage: 37.6+ KB\n"
     ]
    }
   ],
   "source": [
    "train = pd.read_csv(\"data_topic/train.csv\",header=None,names=['label','raw_text'])\n",
    "test = pd.read_csv(\"data_topic/test.csv\",header=None,names=['label','raw_text'])\n",
    "dev = pd.read_csv(\"data_topic/dev.csv\",header=None,names=['label','raw_text'])\n",
    "train.info()"
   ]
  },
  {
   "cell_type": "markdown",
   "metadata": {},
   "source": [
    "# Create input representations\n",
    "\n",
    "\n",
    "To train your Feedforward network, you first need to obtain input representations given a vocabulary. One-hot encoding requires large memory capacity. Therefore, we will instead represent documents as lists of vocabulary indices (each word corresponds to a vocabulary index). \n",
    "\n",
    "\n",
    "## Text Pre-Processing Pipeline\n",
    "\n",
    "To obtain a vocabulary of words. You should: \n",
    "- tokenise all texts into a list of unigrams (tip: you can re-use the functions from Assignment 1) \n",
    "- remove stop words (using the one provided or one of your preference) \n",
    "- remove unigrams appearing in less than K documents\n",
    "- use the remaining to create a vocabulary of the top-N most frequent unigrams in the entire corpus.\n"
   ]
  },
  {
   "cell_type": "code",
   "execution_count": 3,
   "metadata": {
    "ExecuteTime": {
     "end_time": "2020-04-02T14:26:40.851926Z",
     "start_time": "2020-04-02T14:26:40.847500Z"
    },
    "scrolled": true
   },
   "outputs": [],
   "source": [
    "stop_words = ['a','in','on','at','and','or', \n",
    "              'to', 'the', 'of', 'an', 'by', \n",
    "              'as', 'is', 'was', 'were', 'been', 'be', \n",
    "              'are','for', 'this', 'that', 'these', 'those', 'you', 'i', 'if',\n",
    "             'it', 'he', 'she', 'we', 'they', 'will', 'have', 'has',\n",
    "              'do', 'did', 'can', 'could', 'who', 'which', 'what',\n",
    "              'but', 'not', 'there', 'no', 'does', 'not', 'so', 've', 'their',\n",
    "             'his', 'her', 'they', 'them', 'from', 'with', 'its']"
   ]
  },
  {
   "cell_type": "markdown",
   "metadata": {},
   "source": [
    "### Unigram extraction from a document\n",
    "\n",
    "You first need to implement the `extract_ngrams` function. It takes as input:\n",
    "- `x_raw`: a string corresponding to the raw text of a document\n",
    "- `ngram_range`: a tuple of two integers denoting the type of ngrams you want to extract, e.g. (1,2) denotes extracting unigrams and bigrams.\n",
    "- `token_pattern`: a string to be used within a regular expression to extract all tokens. Note that data is already tokenised so you could opt for a simple white space tokenisation.\n",
    "- `stop_words`: a list of stop words\n",
    "- `vocab`: a given vocabulary. It should be used to extract specific features.\n",
    "\n",
    "and returns:\n",
    "\n",
    "- a list of all extracted features.\n"
   ]
  },
  {
   "cell_type": "code",
   "execution_count": 4,
   "metadata": {
    "ExecuteTime": {
     "end_time": "2020-05-11T08:23:17.181553Z",
     "start_time": "2020-05-11T08:23:17.178314Z"
    },
    "scrolled": true
   },
   "outputs": [],
   "source": [
    "def extract_ngrams(x_raw, ngram_range=(1,3), token_pattern=r'\\b[A-Za-z][A-Za-z]+\\b', \n",
    "                   stop_words=[], vocab=set()):\n",
    "    # Tokenize the raw text\n",
    "    pattern = re.compile(token_pattern)\n",
    "    x_token = pattern.findall(x_raw)\n",
    "    # Eliminating stop words\n",
    "    x_token = [token for token in x_token if token not in stop_words]\n",
    "    # Find all n-grams\n",
    "    x_ngrams = []\n",
    "    for n in range(1,ngram_range[1]+1):\n",
    "        x_ngram = zip(*[x_token[i:] for i in range(0,n)])\n",
    "        x_ngrams.extend([' '.join(tokens) for tokens in x_ngram])\n",
    "    # Extract features (vocabulary indices)\n",
    "    vocab = list(vocab)\n",
    "    x = [vocab.index(word_s) for word_s in x_ngrams if word_s in vocab]\n",
    "    return x"
   ]
  },
  {
   "cell_type": "markdown",
   "metadata": {},
   "source": [
    "### Create a vocabulary of n-grams\n",
    "\n",
    "Then the `get_vocab` function will be used to (1) create a vocabulary of ngrams; (2) count the document frequencies of ngrams; (3) their raw frequency. It takes as input:\n",
    "- `X_raw`: a list of strings each corresponding to the raw text of a document\n",
    "- `ngram_range`: a tuple of two integers denoting the type of ngrams you want to extract, e.g. (1,2) denotes extracting unigrams and bigrams.\n",
    "- `token_pattern`: a string to be used within a regular expression to extract all tokens. Note that data is already tokenised so you could opt for a simple white space tokenisation.\n",
    "- `stop_words`: a list of stop words\n",
    "- `min_df`: keep ngrams with a minimum document frequency.\n",
    "- `keep_topN`: keep top-N more frequent ngrams.\n",
    "\n",
    "and returns:\n",
    "\n",
    "- `vocab`: a set of the n-grams that will be used as features.\n",
    "- `df`: a Counter (or dict) that contains ngrams as keys and their corresponding document frequency as values.\n",
    "- `ngram_counts`: counts of each ngram in vocab\n"
   ]
  },
  {
   "cell_type": "code",
   "execution_count": 5,
   "metadata": {
    "ExecuteTime": {
     "end_time": "2020-04-02T14:26:42.563876Z",
     "start_time": "2020-04-02T14:26:42.557967Z"
    },
    "scrolled": true
   },
   "outputs": [],
   "source": [
    "def get_vocab(X_raw, ngram_range=(1,3), token_pattern=r'\\b[A-Za-z][A-Za-z]+\\b', min_df=0, keep_topN=0, stop_words=[]):\n",
    "    # Initialize vocabulary\n",
    "    vocab = set()\n",
    "    # Tokenization of the raw data\n",
    "    pattern = re.compile(token_pattern)\n",
    "    X_token = [pattern.findall(x_raw) for x_raw in X_raw]\n",
    "    # Removing of stop_words\n",
    "    X_token = [[token for token in x_token if token not in stop_words] for x_token in X_token]\n",
    "    # Create ngrams list\n",
    "    X_ngrams = []\n",
    "    # Loop through tokens\n",
    "    for x_token in X_token:\n",
    "        # Find ngrams and add them to the vocabulary\n",
    "        for n in range(1,ngram_range[1]+1):\n",
    "            x_ngram = zip(*[x_token[i:] for i in range(0,n)])\n",
    "            x_ngrams = [' '.join(tokens) for tokens in x_ngram]\n",
    "            X_ngrams.extend(x_ngrams)\n",
    "            for ngram in x_ngrams:\n",
    "                vocab.add(ngram)\n",
    "    # Create a dictionary of ngrams as keys and counts as values\n",
    "    counter = Counter(X_ngrams)\n",
    "    # Extract counts of each ngram\n",
    "    ngram_counts = [counter[ngram] for ngram in vocab]\n",
    "    # Sort it to find top N most frequent\n",
    "    sort_index = [i for i, x in sorted(enumerate(ngram_counts), key= lambda x: x[1], reverse=True)]\n",
    "    # Find no. of words in vocab to get the document frequencies\n",
    "    nwords = len(vocab)\n",
    "    # Sort ngram_counts to eliminate some of the top frequent ngrams\n",
    "    # Initialize the document frequency dictionary\n",
    "    df = {}\n",
    "    for index, ngram in enumerate(counter):\n",
    "        freq = counter[ngram]/nwords\n",
    "        df[ngram] = freq\n",
    "        if freq >= min_df:\n",
    "            if keep_topN > 0:\n",
    "                if not index in sort_index[:keep_topN]:\n",
    "                    vocab.remove(ngram)\n",
    "        else:\n",
    "            vocab.remove(ngram)\n",
    "    return vocab, df, ngram_counts"
   ]
  },
  {
   "cell_type": "markdown",
   "metadata": {},
   "source": [
    "Now you should use `get_vocab` to create your vocabulary and get document and raw frequencies of unigrams:"
   ]
  },
  {
   "cell_type": "code",
   "execution_count": 6,
   "metadata": {
    "ExecuteTime": {
     "end_time": "2020-04-02T14:26:43.577997Z",
     "start_time": "2020-04-02T14:26:43.478950Z"
    },
    "scrolled": true
   },
   "outputs": [],
   "source": [
    "vocab, df, ngram_counts = get_vocab(train['raw_text'].values, ngram_range=(1,1),\n",
    "                                token_pattern=r'\\b[A-Za-z][A-Za-z]+\\b', min_df=0, keep_topN=0, stop_words=stop_words)"
   ]
  },
  {
   "cell_type": "markdown",
   "metadata": {},
   "source": [
    "Then, you need to create vocabulary id -> word and word -> vocabulary id dictionaries for reference:"
   ]
  },
  {
   "cell_type": "code",
   "execution_count": 7,
   "metadata": {
    "ExecuteTime": {
     "end_time": "2020-04-02T14:26:44.069661Z",
     "start_time": "2020-04-02T14:26:44.065058Z"
    },
    "scrolled": true
   },
   "outputs": [],
   "source": [
    "id_word = {}\n",
    "word_id = {}\n",
    "id = 0\n",
    "for word in vocab:\n",
    "    id_word[id] = word\n",
    "    word_id[word] = id\n",
    "    id += 1"
   ]
  },
  {
   "cell_type": "markdown",
   "metadata": {},
   "source": [
    "### Convert the list of unigrams  into a list of vocabulary indices"
   ]
  },
  {
   "cell_type": "markdown",
   "metadata": {},
   "source": [
    "Storing actual one-hot vectors into memory for all words in the entire data set is prohibitive. Instead, we will store word indices in the vocabulary and look-up the weight matrix. This is equivalent of doing a dot product between an one-hot vector and the weight matrix. \n",
    "\n",
    "First, represent documents in train, dev and test sets as lists of words in the vocabulary:"
   ]
  },
  {
   "cell_type": "code",
   "execution_count": 8,
   "metadata": {
    "ExecuteTime": {
     "end_time": "2020-04-02T14:26:45.047887Z",
     "start_time": "2020-04-02T14:26:44.920631Z"
    },
    "scrolled": true
   },
   "outputs": [],
   "source": [
    "x_train = train['raw_text'].values\n",
    "x_test = test['raw_text'].values\n",
    "x_dev = dev['raw_text'].values"
   ]
  },
  {
   "cell_type": "markdown",
   "metadata": {},
   "source": [
    "Then convert them into lists of indices in the vocabulary:"
   ]
  },
  {
   "cell_type": "code",
   "execution_count": 9,
   "metadata": {
    "ExecuteTime": {
     "end_time": "2020-04-02T14:26:45.752658Z",
     "start_time": "2020-04-02T14:26:45.730409Z"
    },
    "scrolled": true
   },
   "outputs": [],
   "source": [
    "x_train = [extract_ngrams(doc,ngram_range=(1,1),stop_words=stop_words,vocab=vocab) for doc in x_train]\n",
    "x_test = [extract_ngrams(doc,ngram_range=(1,1),stop_words=stop_words,vocab=vocab) for doc in x_test]\n",
    "x_dev = [extract_ngrams(doc,ngram_range=(1,1),stop_words=stop_words,vocab=vocab) for doc in x_dev]"
   ]
  },
  {
   "cell_type": "markdown",
   "metadata": {},
   "source": [
    "Put the labels `Y` for train, dev and test sets into arrays: "
   ]
  },
  {
   "cell_type": "code",
   "execution_count": 10,
   "metadata": {
    "ExecuteTime": {
     "end_time": "2020-04-02T15:03:13.183996Z",
     "start_time": "2020-04-02T15:03:13.077575Z"
    },
    "scrolled": true
   },
   "outputs": [],
   "source": [
    "y_train = train['label'].values\n",
    "y_test = test['label'].values\n",
    "y_dev = dev['label'].values"
   ]
  },
  {
   "cell_type": "markdown",
   "metadata": {},
   "source": [
    "# Network Architecture\n",
    "\n",
    "Your network should pass each word index into its corresponding embedding by looking-up on the embedding matrix and then compute the first hidden layer $\\mathbf{h}_1$:\n",
    "\n",
    "$$\\mathbf{h}_1 = \\frac{1}{|x|}\\sum_i W^e_i, i \\in x$$\n",
    "\n",
    "where $|x|$ is the number of words in the document and $W^e$ is an embedding matrix $|V|\\times d$, $|V|$ is the size of the vocabulary and $d$ the embedding size.\n",
    "\n",
    "Then $\\mathbf{h}_1$ should be passed through a ReLU activation function:\n",
    "\n",
    "$$\\mathbf{a}_1 = relu(\\mathbf{h}_1)$$\n",
    "\n",
    "Finally the hidden layer is passed to the output layer:\n",
    "\n",
    "\n",
    "$$\\mathbf{y} = \\text{softmax}(\\mathbf{a}_1W) $$ \n",
    "where $W$ is a matrix $d \\times |{\\cal Y}|$, $|{\\cal Y}|$ is the number of classes.\n",
    "\n",
    "During training, $\\mathbf{a}_1$ should be multiplied with a dropout mask vector (elementwise) for regularisation before it is passed to the output layer.\n",
    "\n",
    "You can extend to a deeper architecture by passing a hidden layer to another one:\n",
    "\n",
    "$$\\mathbf{h_i} = \\mathbf{a}_{i-1}W_i $$\n",
    "\n",
    "$$\\mathbf{a_i} = relu(\\mathbf{h_i}) $$\n",
    "\n"
   ]
  },
  {
   "cell_type": "markdown",
   "metadata": {},
   "source": [
    "# Network Training\n",
    "\n",
    "First we need to define the parameters of our network by initiliasing the weight matrices. For that purpose, you should implement the `network_weights` function that takes as input:\n",
    "\n",
    "- `vocab_size`: the size of the vocabulary\n",
    "- `embedding_dim`: the size of the word embeddings\n",
    "- `hidden_dim`: a list of the sizes of any subsequent hidden layers. Empty if there are no hidden layers between the average embedding and the output layer \n",
    "- `num_classes`: the number of the classes for the output layer\n",
    "\n",
    "and returns:\n",
    "\n",
    "- `W`: a dictionary mapping from layer index (e.g. 0 for the embedding matrix) to the corresponding weight matrix initialised with small random numbers (hint: use numpy.random.uniform with from -0.1 to 0.1)\n",
    "\n",
    "Make sure that the dimensionality of each weight matrix is compatible with the previous and next weight matrix, otherwise you won't be able to perform forward and backward passes. Consider also using np.float32 precision to save memory."
   ]
  },
  {
   "cell_type": "code",
   "execution_count": 11,
   "metadata": {
    "ExecuteTime": {
     "end_time": "2020-04-02T15:41:20.918617Z",
     "start_time": "2020-04-02T15:41:20.915597Z"
    },
    "scrolled": true
   },
   "outputs": [],
   "source": [
    "def network_weights(vocab_size=1000, embedding_dim=300, \n",
    "                    hidden_dim=[], num_classes=3, init_val = 0.1):\n",
    "    W = {}\n",
    "    # First, set the embedding matrix as the first layer\n",
    "    W[0] = np.random.uniform(-init_val,init_val,size=(vocab_size,embedding_dim))\n",
    "    # Then, add other hidden layers (if given)\n",
    "    size_prev = embedding_dim\n",
    "    if len(hidden_dim):\n",
    "        for i in range(len(hidden_dim)):\n",
    "            W[i+1] = np.random.uniform(-init_val,init_val,size=(size_prev,hidden_dim[i]))\n",
    "            size_prev = hidden_dim[i]\n",
    "    # Last, add the output layer\n",
    "    W[i+2 if len(hidden_dim) else 1] = np.random.uniform(-init_val,init_val,size=(size_prev,num_classes))\n",
    "    return W"
   ]
  },
  {
   "cell_type": "code",
   "execution_count": 12,
   "metadata": {
    "ExecuteTime": {
     "end_time": "2020-04-02T14:26:48.636732Z",
     "start_time": "2020-04-02T14:26:48.634122Z"
    },
    "scrolled": true
   },
   "outputs": [],
   "source": [
    "W = network_weights(vocab_size=3,embedding_dim=4,hidden_dim=[2], num_classes=2)"
   ]
  },
  {
   "cell_type": "markdown",
   "metadata": {
    "ExecuteTime": {
     "end_time": "2020-04-01T10:31:57.970152Z",
     "start_time": "2020-04-01T10:31:57.966123Z"
    }
   },
   "source": [
    "Then you need to develop a `softmax` function (same as in Assignment 1) to be used in the output layer. \n",
    "\n",
    "It takes as input `z` (array of real numbers) and returns `sig` (the softmax of `z`)\n",
    "\n"
   ]
  },
  {
   "cell_type": "code",
   "execution_count": 13,
   "metadata": {},
   "outputs": [],
   "source": [
    "def softmax(z):\n",
    "    sig = np.exp(z)/np.sum(np.exp(z))\n",
    "    return sig"
   ]
  },
  {
   "cell_type": "markdown",
   "metadata": {},
   "source": [
    "Now you need to implement the categorical cross entropy loss by slightly modifying the function from Assignment 1 to depend only on the true label `y` and the class probabilities vector `y_preds`:\n"
   ]
  },
  {
   "cell_type": "code",
   "execution_count": 14,
   "metadata": {
    "ExecuteTime": {
     "end_time": "2020-04-02T14:26:51.360838Z",
     "start_time": "2020-04-02T14:26:51.356935Z"
    },
    "scrolled": true
   },
   "outputs": [],
   "source": [
    "def categorical_loss(y, y_preds):\n",
    "    # map the true y label to one-hot\n",
    "    y_1hot = []\n",
    "    for i in range(len(y)):\n",
    "        arr = list(np.zeros(len(y_preds[0])))\n",
    "        arr[y[i]-1] = 1\n",
    "        y_1hot.append(arr)\n",
    "    l = np.sum(-np.multiply(y_1hot, np.log(y_preds)), axis=1)\n",
    "    return l"
   ]
  },
  {
   "cell_type": "markdown",
   "metadata": {
    "ExecuteTime": {
     "end_time": "2020-03-31T15:02:56.149535Z",
     "start_time": "2020-03-31T15:02:56.145738Z"
    }
   },
   "source": [
    "Then, implement the `relu` function to introduce non-linearity after each hidden layer of your network \n",
    "(during the forward pass): \n",
    "\n",
    "$$relu(z_i)= max(z_i,0)$$\n",
    "\n",
    "and the `relu_derivative` function to compute its derivative (used in the backward pass):\n",
    "\n",
    "  \n",
    "  relu_derivative($z_i$)=0, if $z_i$<=0, 1 otherwise.\n",
    "  \n",
    "\n",
    "\n",
    "Note that both functions take as input a vector $z$ \n",
    "\n",
    "Hint use .copy() to avoid in place changes in array z"
   ]
  },
  {
   "cell_type": "code",
   "execution_count": 15,
   "metadata": {
    "ExecuteTime": {
     "end_time": "2020-04-02T14:26:52.665236Z",
     "start_time": "2020-04-02T14:26:52.661519Z"
    },
    "scrolled": true
   },
   "outputs": [],
   "source": [
    "def relu(z):\n",
    "    a = np.maximum(z,0)\n",
    "    return a\n",
    "    \n",
    "def relu_derivative(z):\n",
    "    a = relu(z)\n",
    "    dz = a.copy()\n",
    "    dz[a>0] = 1\n",
    "    return dz"
   ]
  },
  {
   "cell_type": "markdown",
   "metadata": {},
   "source": [
    "During training you should also apply a dropout mask element-wise after the activation function (i.e. vector of ones with a random percentage set to zero). The `dropout_mask` function takes as input:\n",
    "\n",
    "- `size`: the size of the vector that we want to apply dropout\n",
    "- `dropout_rate`: the percentage of elements that will be randomly set to zeros\n",
    "\n",
    "and returns:\n",
    "\n",
    "- `dropout_vec`: a vector with binary values (0 or 1)"
   ]
  },
  {
   "cell_type": "code",
   "execution_count": 16,
   "metadata": {
    "ExecuteTime": {
     "end_time": "2020-04-02T14:26:53.429192Z",
     "start_time": "2020-04-02T14:26:53.425301Z"
    },
    "scrolled": true
   },
   "outputs": [],
   "source": [
    "def dropout_mask(size, dropout_rate):\n",
    "    dropout_vec = (np.random.rand(size) > dropout_rate)/1\n",
    "    return dropout_vec"
   ]
  },
  {
   "cell_type": "code",
   "execution_count": 17,
   "metadata": {
    "ExecuteTime": {
     "end_time": "2020-04-02T14:26:53.853632Z",
     "start_time": "2020-04-02T14:26:53.849944Z"
    },
    "scrolled": true
   },
   "outputs": [
    {
     "name": "stdout",
     "output_type": "stream",
     "text": [
      "[1. 1. 1. 1. 1. 1. 0. 1. 1. 1.]\n",
      "[1. 1. 1. 1. 1. 1. 1. 0. 1. 1.]\n"
     ]
    }
   ],
   "source": [
    "print(dropout_mask(10, 0.2))\n",
    "print(dropout_mask(10, 0.2))"
   ]
  },
  {
   "cell_type": "markdown",
   "metadata": {},
   "source": [
    "Now you need to implement the `forward_pass` function that passes the input x through the network up to the output layer for computing the probability for each class using the weight matrices in `W`. The ReLU activation function should be applied on each hidden layer. \n",
    "\n",
    "- `x`: a list of vocabulary indices each corresponding to a word in the document (input)\n",
    "- `W`: a list of weight matrices connecting each part of the network, e.g. for a network with a hidden and an output layer: W[0] is the weight matrix that connects the input to the first hidden layer, W[1] is the weight matrix that connects the hidden layer to the output layer.\n",
    "- `dropout_rate`: the dropout rate that is used to generate a random dropout mask vector applied after each hidden layer for regularisation.\n",
    "\n",
    "and returns:\n",
    "\n",
    "- `out_vals`: a dictionary of output values from each layer: h (the vector before the activation function), a (the resulting vector after passing h from the activation function), its dropout mask vector; and the prediction vector (probability for each class) from the output layer."
   ]
  },
  {
   "cell_type": "code",
   "execution_count": 18,
   "metadata": {
    "ExecuteTime": {
     "end_time": "2020-04-02T14:26:54.761268Z",
     "start_time": "2020-04-02T14:26:54.753402Z"
    },
    "scrolled": true
   },
   "outputs": [],
   "source": [
    "def forward_pass(x, W, dropout_rate=0.2):\n",
    "    # Create empty lists for output values\n",
    "    h_vecs = []\n",
    "    a_vecs = []\n",
    "    dropout_vecs = []\n",
    "    # First Layer: Embedding => h1 (1xd)\n",
    "    h1 = np.expand_dims(np.mean(W[0][x],axis=0),axis=0)\n",
    "    h_vecs.append(h1)\n",
    "    # Loop through all hidden layers\n",
    "    h_i = h1\n",
    "    for i in range(1,len(W)):\n",
    "        # Activation of the previous layer (relu) => a1 (1xd_i)\n",
    "        a_i = relu(h_i)\n",
    "        # Dropout of the last output => a1_d (1xd_i)\n",
    "        dmask_i = dropout_mask(a_i.shape[1],dropout_rate)\n",
    "        ai_d = np.multiply(a_i,dmask_i)\n",
    "        a_vecs.append(ai_d)\n",
    "        dropout_vecs.append(dmask_i)\n",
    "        # Output of the hidden layer => h_i (1xd_i+1)\n",
    "        h_i = np.matmul(ai_d,W[i])\n",
    "        h_vecs.append(h_i)\n",
    "    # Softmax activation for the output => y_hat (1xc)\n",
    "    pred = np.squeeze(softmax(h_i)).tolist()\n",
    "    out_vals = {'h':h_vecs,'a':a_vecs,'d':dropout_vecs,'y_pred':pred}\n",
    "    return out_vals    "
   ]
  },
  {
   "cell_type": "markdown",
   "metadata": {},
   "source": [
    "The `backward_pass` function computes the gradients and updates the weights for each matrix in the network from the output to the input. It takes as input \n",
    "\n",
    "- `x`: a list of vocabulary indices each corresponding to a word in the document (input)\n",
    "- `y`: the true label\n",
    "- `W`: a list of weight matrices connecting each part of the network, e.g. for a network with a hidden and an output layer: W[0] is the weight matrix that connects the input to the first hidden layer, W[1] is the weight matrix that connects the hidden layer to the output layer.\n",
    "- `out_vals`: a dictionary of output values from a forward pass.\n",
    "- `learning_rate`: the learning rate for updating the weights.\n",
    "- `freeze_emb`: boolean value indicating whether the embedding weights will be updated.\n",
    "\n",
    "and returns:\n",
    "\n",
    "- `W`: the updated weights of the network.\n",
    "\n",
    "Hint: the gradients on the output layer are similar to the multiclass logistic regression."
   ]
  },
  {
   "cell_type": "code",
   "execution_count": 19,
   "metadata": {
    "ExecuteTime": {
     "end_time": "2020-05-11T08:24:13.732705Z",
     "start_time": "2020-05-11T08:24:13.729741Z"
    },
    "scrolled": true
   },
   "outputs": [],
   "source": [
    "def backward_pass(x, y, W, out_vals, lr=0.001, freeze_emb=False):\n",
    "    # Initialize gradients\n",
    "    dL_dW = {}\n",
    "    # Apply one-hot mapping to the y label\n",
    "    arr = list(np.zeros(len(out_vals['y_pred'])))\n",
    "    arr[y-1] = 1\n",
    "    y = np.expand_dims(arr,axis=0)\n",
    "    # First: Gradient of loss w.r.t h_last (1xc)\n",
    "    dL_dhlast = out_vals['y_pred'] - y\n",
    "    # Loop through all hidden layers\n",
    "    dL_dhi = dL_dhlast\n",
    "    for i in range(len(W)-1,0,-1):\n",
    "        # Gradient of loss w.r.t W2 (d_ixd_i+1)\n",
    "        dL_dW[i] = np.matmul(out_vals['a'][i-1].T, dL_dhi)\n",
    "        # Gradient of loss w.r.t a1 (1xd)\n",
    "        dL_dai = np.multiply(np.matmul(dL_dhi,W[i].T), out_vals['d'][i-1])\n",
    "        # Gradient of loss w.r.t h1 (1xd)\n",
    "        dL_dhi = np.multiply(dL_dai, relu_derivative(out_vals['h'][i-1]))\n",
    "    # Last: Gradient of loss w.r.t W1\n",
    "    dL_dW[0] = 1/len(x)*dL_dhi\n",
    "    # Update Gradients\n",
    "    if not freeze_emb:\n",
    "        W[0][x] = W[0][x] - lr*dL_dW[0]\n",
    "    for i in range(1,len(W)):\n",
    "        W[i] = W[i] - lr*dL_dW[i]\n",
    "    return W"
   ]
  },
  {
   "cell_type": "markdown",
   "metadata": {
    "ExecuteTime": {
     "end_time": "2020-02-15T14:08:59.937442Z",
     "start_time": "2020-02-15T14:08:59.932221Z"
    }
   },
   "source": [
    "Finally you need to modify SGD to support back-propagation by using the `forward_pass` and `backward_pass` functions.\n",
    "\n",
    "The `SGD` function takes as input:\n",
    "\n",
    "- `X_tr`: array of training data (vectors)\n",
    "- `Y_tr`: labels of `X_tr`\n",
    "- `W`: the weights of the network (dictionary)\n",
    "- `X_dev`: array of development (i.e. validation) data (vectors)\n",
    "- `Y_dev`: labels of `X_dev`\n",
    "- `lr`: learning rate\n",
    "- `dropout`: regularisation strength\n",
    "- `epochs`: number of full passes over the training data\n",
    "- `tolerance`: stop training if the difference between the current and previous validation loss is smaller than a threshold\n",
    "- `freeze_emb`: boolean value indicating whether the embedding weights will be updated (to be used by the backward pass function).\n",
    "- `print_progress`: flag for printing the training progress (train/validation loss)\n",
    "\n",
    "\n",
    "and returns:\n",
    "\n",
    "- `weights`: the weights learned\n",
    "- `training_loss_history`: an array with the average losses of the whole training set after each epoch\n",
    "- `validation_loss_history`: an array with the average losses of the whole development set after each epoch"
   ]
  },
  {
   "cell_type": "code",
   "execution_count": 20,
   "metadata": {
    "ExecuteTime": {
     "end_time": "2020-04-02T15:09:19.021428Z",
     "start_time": "2020-04-02T15:09:19.017835Z"
    },
    "scrolled": true
   },
   "outputs": [],
   "source": [
    "def SGD(X_tr, Y_tr, W, X_dev=[], Y_dev=[], lr=0.001, \n",
    "        dropout=0.2, epochs=5, tolerance=0.001, freeze_emb=False, print_progress=True):\n",
    "    # Initialize histories\n",
    "    training_loss_history = []\n",
    "    validation_loss_history = []\n",
    "    # Find data sizes\n",
    "    m_train = len(Y_tr)\n",
    "    m_dev = len(Y_dev)\n",
    "    # Create train Dataset\n",
    "    D_train = list(zip(X_tr, Y_tr))\n",
    "    # Initialize loss history to infinity\n",
    "    val_loss_old = np.inf\n",
    "    # Loop through epochs\n",
    "    for epoch in range(epochs):\n",
    "        # Randomize order in train dataset\n",
    "        random.shuffle(D_train)\n",
    "        Y_tr = [d_train[1] for d_train in D_train]\n",
    "        Y_hat = []\n",
    "        # loop through data_set\n",
    "        for (x_tr, y_tr) in D_train:\n",
    "            # First apply forward pass\n",
    "            out_vals = forward_pass(x_tr, W, dropout)\n",
    "            Y_hat.append(out_vals['y_pred'])\n",
    "            # Then apply backward pass\n",
    "            W = backward_pass(x_tr, y_tr, W, out_vals, lr, freeze_emb)\n",
    "        # Monitor training and validation losses\n",
    "        training_loss = 1/m_train*sum(categorical_loss(Y_tr, Y_hat))\n",
    "        training_loss_history.append(training_loss)\n",
    "        Yh_dev = []\n",
    "        for x_dev in X_dev:\n",
    "            out_vals = forward_pass(x_dev, W, dropout)\n",
    "            Yh_dev.append(out_vals['y_pred'])\n",
    "        validation_loss = 1/m_dev*sum(categorical_loss(Y_dev, Yh_dev))\n",
    "        validation_loss_history.append(validation_loss)\n",
    "        if print_progress:\n",
    "            print(\"For epoch no. %d:\"%(epoch+1))\n",
    "            print(\" Training loss = %s\"%training_loss)\n",
    "            print(\" Validation loss = %s\"%validation_loss)\n",
    "        if abs(validation_loss - val_loss_old) < tolerance:\n",
    "           break\n",
    "        val_loss_old = validation_loss\n",
    "    return W, training_loss_history, validation_loss_history"
   ]
  },
  {
   "cell_type": "markdown",
   "metadata": {
    "ExecuteTime": {
     "end_time": "2020-02-15T14:10:15.772383Z",
     "start_time": "2020-02-15T14:10:15.767855Z"
    }
   },
   "source": [
    "Now you are ready to train and evaluate your neural net. First, you need to define your network using the `network_weights` function followed by SGD with backprop:"
   ]
  },
  {
   "cell_type": "code",
   "execution_count": 33,
   "metadata": {
    "ExecuteTime": {
     "end_time": "2020-04-02T15:09:33.643515Z",
     "start_time": "2020-04-02T15:09:33.640943Z"
    },
    "scrolled": true
   },
   "outputs": [
    {
     "name": "stdout",
     "output_type": "stream",
     "text": [
      "Shape W0 (9855, 200)\n",
      "Shape W1 (200, 3)\n",
      "For epoch no. 1:\n",
      " Training loss = 1.0984783983046016\n",
      " Validation loss = 1.0990419051521694\n",
      "For epoch no. 2:\n",
      " Training loss = 1.0965882632760313\n",
      " Validation loss = 1.0968171489676073\n",
      "For epoch no. 3:\n",
      " Training loss = 1.0942154736378873\n",
      " Validation loss = 1.0953856369626476\n",
      "For epoch no. 4:\n",
      " Training loss = 1.0912806148515268\n",
      " Validation loss = 1.0934303898430113\n",
      "For epoch no. 5:\n",
      " Training loss = 1.0867377808192946\n",
      " Validation loss = 1.0893897035703004\n",
      "For epoch no. 6:\n",
      " Training loss = 1.079808309043491\n",
      " Validation loss = 1.0834513772087357\n",
      "For epoch no. 7:\n",
      " Training loss = 1.0686742455368663\n",
      " Validation loss = 1.0750779325358775\n",
      "For epoch no. 8:\n",
      " Training loss = 1.0503428286277667\n",
      " Validation loss = 1.0599841421635132\n",
      "For epoch no. 9:\n",
      " Training loss = 1.0208908003699217\n",
      " Validation loss = 1.0351760269568695\n",
      "For epoch no. 10:\n",
      " Training loss = 0.9769677774296655\n",
      " Validation loss = 0.9999774744460393\n",
      "For epoch no. 11:\n",
      " Training loss = 0.9183722852366059\n",
      " Validation loss = 0.9559720794228094\n",
      "For epoch no. 12:\n",
      " Training loss = 0.8492397159172375\n",
      " Validation loss = 0.900890188543796\n",
      "For epoch no. 13:\n",
      " Training loss = 0.7780473611899286\n",
      " Validation loss = 0.8401359447470393\n",
      "For epoch no. 14:\n",
      " Training loss = 0.7071554556320747\n",
      " Validation loss = 0.774383807719216\n",
      "For epoch no. 15:\n",
      " Training loss = 0.642032925559377\n",
      " Validation loss = 0.7168827838165666\n",
      "For epoch no. 16:\n",
      " Training loss = 0.5811227742578671\n",
      " Validation loss = 0.6610989465469339\n",
      "For epoch no. 17:\n",
      " Training loss = 0.5238978025580429\n",
      " Validation loss = 0.6025374364307243\n",
      "For epoch no. 18:\n",
      " Training loss = 0.47137435690955604\n",
      " Validation loss = 0.5549085658781474\n",
      "For epoch no. 19:\n",
      " Training loss = 0.4261317711214271\n",
      " Validation loss = 0.5149477760992464\n",
      "For epoch no. 20:\n",
      " Training loss = 0.38890714384182645\n",
      " Validation loss = 0.4905596591280117\n",
      "For epoch no. 21:\n",
      " Training loss = 0.35769455157751906\n",
      " Validation loss = 0.4688228465443582\n",
      "For epoch no. 22:\n",
      " Training loss = 0.32873003769036613\n",
      " Validation loss = 0.4515479916876943\n",
      "For epoch no. 23:\n",
      " Training loss = 0.30509955900527735\n",
      " Validation loss = 0.4299462002699329\n",
      "For epoch no. 24:\n",
      " Training loss = 0.28149567845568557\n",
      " Validation loss = 0.41191140576240465\n",
      "For epoch no. 25:\n",
      " Training loss = 0.26127464189675653\n",
      " Validation loss = 0.3974154586988761\n",
      "For epoch no. 26:\n",
      " Training loss = 0.24093327121470776\n",
      " Validation loss = 0.37980656923171763\n",
      "For epoch no. 27:\n",
      " Training loss = 0.2241812929552702\n",
      " Validation loss = 0.37043936540266714\n",
      "For epoch no. 28:\n",
      " Training loss = 0.20802614472932882\n",
      " Validation loss = 0.3654757915990127\n",
      "For epoch no. 29:\n",
      " Training loss = 0.19482604324186886\n",
      " Validation loss = 0.3602349989365958\n",
      "For epoch no. 30:\n",
      " Training loss = 0.18042780973333758\n",
      " Validation loss = 0.34449201834914395\n",
      "For epoch no. 31:\n",
      " Training loss = 0.16793990980389095\n",
      " Validation loss = 0.33469577813204293\n",
      "For epoch no. 32:\n",
      " Training loss = 0.16113076299779486\n",
      " Validation loss = 0.3325646853329576\n",
      "For epoch no. 33:\n",
      " Training loss = 0.14990659074278656\n",
      " Validation loss = 0.32283645356907054\n",
      "For epoch no. 34:\n",
      " Training loss = 0.1403607636585463\n",
      " Validation loss = 0.3185410324005364\n",
      "For epoch no. 35:\n",
      " Training loss = 0.13311058278526638\n",
      " Validation loss = 0.32701921425714076\n",
      "For epoch no. 36:\n",
      " Training loss = 0.12647466663784437\n",
      " Validation loss = 0.3062987645253856\n",
      "For epoch no. 37:\n",
      " Training loss = 0.11875293590739887\n",
      " Validation loss = 0.31661450592928536\n",
      "For epoch no. 38:\n",
      " Training loss = 0.11532026655077544\n",
      " Validation loss = 0.2969326523187109\n",
      "For epoch no. 39:\n",
      " Training loss = 0.10602318381186975\n",
      " Validation loss = 0.3017047983041584\n",
      "For epoch no. 40:\n",
      " Training loss = 0.1016515473657715\n",
      " Validation loss = 0.3074230010200732\n",
      "For epoch no. 41:\n",
      " Training loss = 0.09698071322267776\n",
      " Validation loss = 0.3014433413866136\n",
      "For epoch no. 42:\n",
      " Training loss = 0.09134032212893371\n",
      " Validation loss = 0.3081599835504329\n",
      "For epoch no. 43:\n",
      " Training loss = 0.08747330616473706\n",
      " Validation loss = 0.27454623750257656\n",
      "For epoch no. 44:\n",
      " Training loss = 0.0856679617187007\n",
      " Validation loss = 0.2928171216393887\n",
      "For epoch no. 45:\n",
      " Training loss = 0.08050418883496505\n",
      " Validation loss = 0.28143228805295145\n",
      "For epoch no. 46:\n",
      " Training loss = 0.07880553839890288\n",
      " Validation loss = 0.28622763495910825\n",
      "For epoch no. 47:\n",
      " Training loss = 0.07440359865992387\n",
      " Validation loss = 0.2958395719466182\n",
      "For epoch no. 48:\n",
      " Training loss = 0.072372281948046\n",
      " Validation loss = 0.2781492057906863\n",
      "For epoch no. 49:\n",
      " Training loss = 0.06850351735125705\n",
      " Validation loss = 0.2890915279087271\n",
      "For epoch no. 50:\n",
      " Training loss = 0.06579492210136535\n",
      " Validation loss = 0.2888355591595423\n",
      "[0.9675835624930689, 0.018451976113283617, 0.013964461393647503]\n"
     ]
    }
   ],
   "source": [
    "W = network_weights(vocab_size=len(vocab),embedding_dim=200,\n",
    "                    hidden_dim=[], num_classes=3)\n",
    "\n",
    "for i in range(len(W)):\n",
    "    print('Shape W'+str(i), W[i].shape)\n",
    "\n",
    "W, loss_tr, dev_loss = SGD(x_train, y_train,\n",
    "                            W,\n",
    "                            X_dev=x_dev, \n",
    "                            Y_dev=y_dev,\n",
    "                            lr=0.02, \n",
    "                            dropout=0.2,\n",
    "                            freeze_emb=False,\n",
    "                            tolerance=0.001,\n",
    "                            epochs=100)\n",
    "out = forward_pass(x_test[0],W)\n",
    "print(out['y_pred'])"
   ]
  },
  {
   "cell_type": "markdown",
   "metadata": {},
   "source": [
    "Plot the learning process:"
   ]
  },
  {
   "cell_type": "code",
   "execution_count": 34,
   "metadata": {
    "ExecuteTime": {
     "end_time": "2020-04-02T14:27:15.716497Z",
     "start_time": "2020-04-02T14:27:15.612736Z"
    },
    "scrolled": true
   },
   "outputs": [
    {
     "data": {
      "image/png": "[encoded data removed]",
      "text/plain": [
       "<Figure size 432x288 with 1 Axes>"
      ]
     },
     "metadata": {
      "needs_background": "light"
     },
     "output_type": "display_data"
    }
   ],
   "source": [
    "iters = range(0,len(loss_tr))\n",
    "plt.plot(iters,loss_tr)\n",
    "plt.plot(iters,dev_loss)\n",
    "plt.xlabel('Iterations')\n",
    "plt.ylabel('Loss')\n",
    "plt.legend(['train loss','validation loss'])\n",
    "plt.title(\"Learning Progress\")\n",
    "plt.show()"
   ]
  },
  {
   "cell_type": "markdown",
   "metadata": {},
   "source": [
    "Compute accuracy, precision, recall and F1-Score:"
   ]
  },
  {
   "cell_type": "code",
   "execution_count": 35,
   "metadata": {
    "ExecuteTime": {
     "end_time": "2020-04-02T15:10:11.037495Z",
     "start_time": "2020-04-02T15:10:11.034999Z"
    },
    "scrolled": true
   },
   "outputs": [
    {
     "name": "stdout",
     "output_type": "stream",
     "text": [
      "Accuracy: 0.8611111111111112\n",
      "Precision: 0.8639426224629486\n",
      "Recall: 0.8611111111111112\n",
      "F1-Score: 0.8609628417730976\n"
     ]
    }
   ],
   "source": [
    "preds_te = [np.argmax(forward_pass(x, W, dropout_rate=0.0)['y_pred'])+1 for x in x_test]\n",
    "print('Accuracy:', accuracy_score(y_test,preds_te))\n",
    "print('Precision:', precision_score(y_test,preds_te,average='macro'))\n",
    "print('Recall:', recall_score(y_test,preds_te,average='macro'))\n",
    "print('F1-Score:', f1_score(y_test,preds_te,average='macro'))"
   ]
  },
  {
   "cell_type": "markdown",
   "metadata": {},
   "source": [
    "### Discuss how did you choose model hyperparameters ? "
   ]
  },
  {
   "cell_type": "markdown",
   "metadata": {},
   "source": [
    "In general, hyperparameters are tuned based on the validation results obtained during multiple runs of a machine learning model. The performance enhancement observed during such runs can be attributed to modifications made in the hyperparameters. The results obtained from various runs are summarized in the following table:\n",
    "|# Run|# Number of Epochs|Hidden layer sizes|Learning rate|Dropout|Tolerance|Training loss|Validation loss| Comments\n",
    "|:-:|:-:|:-:|:-:|:-:|:-:|:-:|:-:|:-:|\n",
    "|1|2|10|0.01|0.1|0.001|1.099|1.098|Training stopped too early, decrease tolerance|\n",
    "|2|40|10|0.01|0.1|0.0001|0.642|0.735|High losses, increase embedding size|\n",
    "|3|100|50|0.01|0.1|0.0001|0.096|0.301|Slow learning progress, increase learning rate|\n",
    "|4|100|50|0.1|0.1|0.0001|0.009|0.420|Overfitting, increase dropout|\n",
    "|5|100|50|0.1|0.1|0.0001|0.005|0.461|Overfitting, decrease learning rate|\n",
    "|6|100|50|0.02|0.1|0.0001|0.04|0.293|Increase embedding size to learn new features|\n",
    "|7|100|200|0.02|0.1|0.0001|0.019|0.289|Overfitting, increase dropout|\n",
    "|8|100|200|0.02|0.2|0.0001|0.027|0.276|Add early stopping effect, increase tolerance|\n",
    "|9|50|200|0.02|0.2|0.001|0.065|0.288|-|\n",
    "\n",
    "The obtained results suggest that the model shows good performance, however, there is scope for further improvement. In particular, the model appears to suffer from overfitting, which can be addressed by increasing the training data size or using a deeper architecture that includes more features to better understand the documents."
   ]
  },
  {
   "cell_type": "code",
   "execution_count": 36,
   "metadata": {},
   "outputs": [
    {
     "data": {
      "text/plain": [
       "3215"
      ]
     },
     "execution_count": 36,
     "metadata": {},
     "output_type": "execute_result"
    }
   ],
   "source": [
    "del W\n",
    "gc.collect()"
   ]
  },
  {
   "cell_type": "markdown",
   "metadata": {},
   "source": [
    "# Use Pre-trained Embeddings\n",
    "\n",
    "Now re-train the network using GloVe pre-trained embeddings. You need to modify the `backward_pass` function above to stop computing gradients and updating weights of the embedding matrix.\n",
    "\n",
    "Use the function below to obtain the embedding martix for your vocabulary. Generally, that should work without any problem. If you get errors, you can modify it."
   ]
  },
  {
   "cell_type": "code",
   "execution_count": 38,
   "metadata": {
    "ExecuteTime": {
     "end_time": "2020-04-02T14:27:32.020697Z",
     "start_time": "2020-04-02T14:27:32.015733Z"
    },
    "scrolled": true
   },
   "outputs": [],
   "source": [
    "def get_glove_embeddings(f_zip, f_txt, word2id, emb_size=300):\n",
    "    \n",
    "    w_emb = np.zeros((len(word2id), emb_size))\n",
    "    \n",
    "    with zipfile.ZipFile(f_zip) as z:\n",
    "        with z.open(f_txt) as f:\n",
    "            for line in f:\n",
    "                line = line.decode('utf-8')\n",
    "                word = line.split()[0]\n",
    "                     \n",
    "                if word in vocab:\n",
    "                    emb = line.strip('\\n').split()[1:]\n",
    "                    emb = ['0' if x == 'Killerseats.com' else x for x in emb]\n",
    "                    emb = np.array(emb).astype(np.float32)[:emb_size]\n",
    "                    w_emb[word2id[word]] +=emb\n",
    "    return w_emb"
   ]
  },
  {
   "cell_type": "code",
   "execution_count": 39,
   "metadata": {
    "ExecuteTime": {
     "end_time": "2020-04-02T14:28:54.548613Z",
     "start_time": "2020-04-02T14:27:32.780248Z"
    },
    "scrolled": true
   },
   "outputs": [],
   "source": [
    "w_glove = get_glove_embeddings(\"glove.840B.300d.zip\",\"glove.840B.300d.txt\",word_id)"
   ]
  },
  {
   "cell_type": "markdown",
   "metadata": {},
   "source": [
    "First, initialise the weights of your network using the `network_weights` function. Second, replace the weigths of the embedding matrix with `w_glove`. Finally, train the network by freezing the embedding weights: "
   ]
  },
  {
   "cell_type": "code",
   "execution_count": 56,
   "metadata": {
    "ExecuteTime": {
     "end_time": "2020-04-02T14:30:11.121198Z",
     "start_time": "2020-04-02T14:29:24.946124Z"
    },
    "scrolled": true
   },
   "outputs": [
    {
     "name": "stdout",
     "output_type": "stream",
     "text": [
      "Shape W0 (9855, 300)\n",
      "Shape W1 (300, 3)\n",
      "For epoch no. 1:\n",
      " Training loss = 0.5537763546340528\n",
      " Validation loss = 0.3732965790904515\n",
      "For epoch no. 2:\n",
      " Training loss = 0.37652106230220433\n",
      " Validation loss = 0.2656222866130047\n",
      "For epoch no. 3:\n",
      " Training loss = 0.3412321632239131\n",
      " Validation loss = 0.2428270687379156\n",
      "For epoch no. 4:\n",
      " Training loss = 0.3280640412551002\n",
      " Validation loss = 0.22340464333146468\n",
      "For epoch no. 5:\n",
      " Training loss = 0.3134545874748036\n",
      " Validation loss = 0.2619400713756511\n",
      "For epoch no. 6:\n",
      " Training loss = 0.3054255127854148\n",
      " Validation loss = 0.22146053361759477\n",
      "For epoch no. 7:\n",
      " Training loss = 0.30272401377596814\n",
      " Validation loss = 0.20357018847734837\n",
      "For epoch no. 8:\n",
      " Training loss = 0.2880278550729047\n",
      " Validation loss = 0.20941082958064933\n",
      "For epoch no. 9:\n",
      " Training loss = 0.28794549789826857\n",
      " Validation loss = 0.20506185376087943\n",
      "For epoch no. 10:\n",
      " Training loss = 0.2795687838943836\n",
      " Validation loss = 0.19751695969529617\n",
      "For epoch no. 11:\n",
      " Training loss = 0.2772849474243829\n",
      " Validation loss = 0.19438499746980656\n",
      "For epoch no. 12:\n",
      " Training loss = 0.2782939180207284\n",
      " Validation loss = 0.18933876172577252\n",
      "For epoch no. 13:\n",
      " Training loss = 0.2754274250696303\n",
      " Validation loss = 0.1913229809867403\n",
      "For epoch no. 14:\n",
      " Training loss = 0.2710681898525293\n",
      " Validation loss = 0.18395633962024663\n",
      "For epoch no. 15:\n",
      " Training loss = 0.26646576683863016\n",
      " Validation loss = 0.19305109009395804\n",
      "For epoch no. 16:\n",
      " Training loss = 0.26258751903033606\n",
      " Validation loss = 0.21729822765566698\n",
      "For epoch no. 17:\n",
      " Training loss = 0.26111253601990647\n",
      " Validation loss = 0.18926167710321573\n",
      "For epoch no. 18:\n",
      " Training loss = 0.26025427457262507\n",
      " Validation loss = 0.18136035583417834\n",
      "For epoch no. 19:\n",
      " Training loss = 0.2592536789861554\n",
      " Validation loss = 0.1776352188215633\n",
      "For epoch no. 20:\n",
      " Training loss = 0.2548880746320869\n",
      " Validation loss = 0.17461974417678325\n",
      "For epoch no. 21:\n",
      " Training loss = 0.25494175890739607\n",
      " Validation loss = 0.17079308185669492\n",
      "For epoch no. 22:\n",
      " Training loss = 0.2556496880828957\n",
      " Validation loss = 0.19072620803643356\n",
      "For epoch no. 23:\n",
      " Training loss = 0.24899393004781428\n",
      " Validation loss = 0.17285987055639668\n",
      "For epoch no. 24:\n",
      " Training loss = 0.2500023294238585\n",
      " Validation loss = 0.20268435091997739\n",
      "For epoch no. 25:\n",
      " Training loss = 0.24961795614933574\n",
      " Validation loss = 0.16739988209771545\n",
      "For epoch no. 26:\n",
      " Training loss = 0.24370937579486188\n",
      " Validation loss = 0.1858033092572415\n",
      "For epoch no. 27:\n",
      " Training loss = 0.2425694123051139\n",
      " Validation loss = 0.19000391345989653\n",
      "For epoch no. 28:\n",
      " Training loss = 0.2419363346999018\n",
      " Validation loss = 0.16152058343412218\n",
      "For epoch no. 29:\n",
      " Training loss = 0.24008968341073025\n",
      " Validation loss = 0.23196143980746248\n",
      "For epoch no. 30:\n",
      " Training loss = 0.23859776046951062\n",
      " Validation loss = 0.1717202185305684\n",
      "For epoch no. 31:\n",
      " Training loss = 0.23816976382329247\n",
      " Validation loss = 0.1739354412465077\n",
      "For epoch no. 32:\n",
      " Training loss = 0.23466078670569143\n",
      " Validation loss = 0.16077560883265934\n",
      "For epoch no. 33:\n",
      " Training loss = 0.2367174404323489\n",
      " Validation loss = 0.20353443040102975\n",
      "For epoch no. 34:\n",
      " Training loss = 0.2322214567463758\n",
      " Validation loss = 0.1955135496355639\n",
      "For epoch no. 35:\n",
      " Training loss = 0.23341530188742662\n",
      " Validation loss = 0.1792470408207718\n",
      "For epoch no. 36:\n",
      " Training loss = 0.23129368405322948\n",
      " Validation loss = 0.15973317019672398\n",
      "For epoch no. 37:\n",
      " Training loss = 0.2290970851502408\n",
      " Validation loss = 0.1529260711265832\n",
      "For epoch no. 38:\n",
      " Training loss = 0.22885099299672956\n",
      " Validation loss = 0.18361349312439984\n",
      "For epoch no. 39:\n",
      " Training loss = 0.2332715159866463\n",
      " Validation loss = 0.21156082120883615\n",
      "For epoch no. 40:\n",
      " Training loss = 0.23049310677239315\n",
      " Validation loss = 0.16452857456696537\n",
      "For epoch no. 41:\n",
      " Training loss = 0.22337758184742645\n",
      " Validation loss = 0.1874773643564854\n",
      "For epoch no. 42:\n",
      " Training loss = 0.22528050470841232\n",
      " Validation loss = 0.19883783772499744\n",
      "For epoch no. 43:\n",
      " Training loss = 0.23076392403748583\n",
      " Validation loss = 0.1949785642465733\n",
      "For epoch no. 44:\n",
      " Training loss = 0.22506880859391487\n",
      " Validation loss = 0.18100320180567028\n",
      "For epoch no. 45:\n",
      " Training loss = 0.2289620342048205\n",
      " Validation loss = 0.17346499400704846\n",
      "For epoch no. 46:\n",
      " Training loss = 0.2224016008327805\n",
      " Validation loss = 0.17850985690509835\n",
      "For epoch no. 47:\n",
      " Training loss = 0.22052625871186726\n",
      " Validation loss = 0.18274717633320556\n",
      "For epoch no. 48:\n",
      " Training loss = 0.224418249407436\n",
      " Validation loss = 0.1801174183302872\n",
      "For epoch no. 49:\n",
      " Training loss = 0.22177238131246507\n",
      " Validation loss = 0.19725042258003372\n",
      "For epoch no. 50:\n",
      " Training loss = 0.22522332017737337\n",
      " Validation loss = 0.17462101707682767\n",
      "For epoch no. 51:\n",
      " Training loss = 0.22111136323955682\n",
      " Validation loss = 0.18898456995291815\n",
      "For epoch no. 52:\n",
      " Training loss = 0.22270133426489547\n",
      " Validation loss = 0.18073947594556913\n",
      "For epoch no. 53:\n",
      " Training loss = 0.22368342684510462\n",
      " Validation loss = 0.2151590657116928\n",
      "For epoch no. 54:\n",
      " Training loss = 0.22146267332988256\n",
      " Validation loss = 0.17235483123061904\n",
      "For epoch no. 55:\n",
      " Training loss = 0.21213204840017544\n",
      " Validation loss = 0.18593739097207412\n",
      "For epoch no. 56:\n",
      " Training loss = 0.22145509059927795\n",
      " Validation loss = 0.18007897370956222\n",
      "For epoch no. 57:\n",
      " Training loss = 0.21833068753516086\n",
      " Validation loss = 0.1980580535053769\n",
      "For epoch no. 58:\n",
      " Training loss = 0.21917678938003024\n",
      " Validation loss = 0.22112983136485417\n",
      "For epoch no. 59:\n",
      " Training loss = 0.21942106127037278\n",
      " Validation loss = 0.16629338359308268\n",
      "For epoch no. 60:\n",
      " Training loss = 0.21757768533058328\n",
      " Validation loss = 0.1517267092584938\n",
      "For epoch no. 61:\n",
      " Training loss = 0.21277221287899928\n",
      " Validation loss = 0.1713240333404392\n",
      "For epoch no. 62:\n",
      " Training loss = 0.2211645683377825\n",
      " Validation loss = 0.2023406130455097\n",
      "For epoch no. 63:\n",
      " Training loss = 0.21726752111661687\n",
      " Validation loss = 0.16612566170332066\n",
      "For epoch no. 64:\n",
      " Training loss = 0.21672554053283635\n",
      " Validation loss = 0.17963838020218387\n",
      "For epoch no. 65:\n",
      " Training loss = 0.21603206159822994\n",
      " Validation loss = 0.1785643345190146\n",
      "For epoch no. 66:\n",
      " Training loss = 0.21751315469782545\n",
      " Validation loss = 0.20082706673375242\n",
      "For epoch no. 67:\n",
      " Training loss = 0.21795638391495994\n",
      " Validation loss = 0.20203146492477458\n",
      "For epoch no. 68:\n",
      " Training loss = 0.20843808796846441\n",
      " Validation loss = 0.15911420849926253\n",
      "For epoch no. 69:\n",
      " Training loss = 0.2116280158935428\n",
      " Validation loss = 0.20300103269970754\n",
      "For epoch no. 70:\n",
      " Training loss = 0.21173367195299742\n",
      " Validation loss = 0.18179174345130708\n",
      "For epoch no. 71:\n",
      " Training loss = 0.2089442871769579\n",
      " Validation loss = 0.1874031037692667\n",
      "For epoch no. 72:\n",
      " Training loss = 0.21699740535116524\n",
      " Validation loss = 0.17146165850699852\n",
      "For epoch no. 73:\n",
      " Training loss = 0.21074192450030999\n",
      " Validation loss = 0.17865140668741825\n",
      "For epoch no. 74:\n",
      " Training loss = 0.20883284236451097\n",
      " Validation loss = 0.1917344432082833\n",
      "For epoch no. 75:\n",
      " Training loss = 0.20798949738200426\n",
      " Validation loss = 0.15515232277262256\n",
      "For epoch no. 76:\n",
      " Training loss = 0.20686313421584535\n",
      " Validation loss = 0.17709072255208844\n",
      "For epoch no. 77:\n",
      " Training loss = 0.21099831035964198\n",
      " Validation loss = 0.18271121657318865\n",
      "For epoch no. 78:\n",
      " Training loss = 0.20867106715673256\n",
      " Validation loss = 0.18327234019637942\n",
      "[0.8554624942412727, 0.14003831723099303, 0.0044991885277342394]\n"
     ]
    }
   ],
   "source": [
    "W = network_weights(vocab_size=len(vocab),embedding_dim=300,\n",
    "                    hidden_dim=[], num_classes=3)\n",
    "\n",
    "for i in range(len(W)):\n",
    "    print('Shape W'+str(i), W[i].shape)\n",
    "\n",
    "W[0] = w_glove\n",
    "\n",
    "W, loss_tr, dev_loss = SGD(x_train, y_train,\n",
    "                            W,\n",
    "                            X_dev=x_dev, \n",
    "                            Y_dev=y_dev,\n",
    "                            lr=0.04, \n",
    "                            dropout=0.1,\n",
    "                            freeze_emb=True,\n",
    "                            tolerance=0.001,\n",
    "                            epochs=100)\n",
    "out = forward_pass(x_test[0],W)\n",
    "print(out['y_pred'])"
   ]
  },
  {
   "cell_type": "code",
   "execution_count": 57,
   "metadata": {
    "ExecuteTime": {
     "end_time": "2020-04-02T15:12:00.815184Z",
     "start_time": "2020-04-02T15:12:00.812563Z"
    },
    "scrolled": true
   },
   "outputs": [
    {
     "name": "stdout",
     "output_type": "stream",
     "text": [
      "Accuracy: 0.8811111111111111\n",
      "Precision: 0.8822274398915694\n",
      "Recall: 0.8811111111111112\n",
      "F1-Score: 0.8807239973275397\n"
     ]
    }
   ],
   "source": [
    "preds_te = [np.argmax(forward_pass(x, W, dropout_rate=0.0)['y_pred'])+1 for x in x_test]\n",
    "print('Accuracy:', accuracy_score(y_test,preds_te))\n",
    "print('Precision:', precision_score(y_test,preds_te,average='macro'))\n",
    "print('Recall:', recall_score(y_test,preds_te,average='macro'))\n",
    "print('F1-Score:', f1_score(y_test,preds_te,average='macro'))"
   ]
  },
  {
   "cell_type": "markdown",
   "metadata": {},
   "source": [
    "### Discuss how did you choose model hyperparameters ? "
   ]
  },
  {
   "cell_type": "markdown",
   "metadata": {},
   "source": [
    "In practice, adjusting hyperparameters is a common approach to optimize the performance of machine learning models. By monitoring validation results during the training process, we can obtain valuable insights into how changes in hyperparameters affect the model's performance. Here, we present the results of a series of runs where different hyperparameters were explored.\n",
    "The experiments were conducted with a model that uses embeddings. The table below summarizes the hyperparameters used in each run, as well as the resulting training and validation losses. The comments column describes any relevant observations or insights gained during the experiment.\n",
    "|# Run|# Number of Epochs|Hidden layer sizes|Learning rate|Dropout|Tolerance|Training loss|Validation loss| Comments\n",
    "|:-:|:-:|:-:|:-:|:-:|:-:|:-:|:-:|:-:|\n",
    "|1|25|200|0.02|0.2|0.001|0.323|0.238|Relatively large losses, Increase embedding size to improve performance|\n",
    "|2|31|200|0.02|0.2|0.001|0.279|0.189|Decrease tolerance to prevent premature stopping|\n",
    "|3|37|200|0.02|0.2|0.0001|0.269|0.204|Decrease dropout to improve training loss|\n",
    "|4|100|200|0.02|0.1|0.0001|0.218|0.2066|Increase learning rate to speed up training|\n",
    "|5|100|200|0.04|0.1|0.0001|0.210|0.171|Retain early stopping to prevent overfitting|\n",
    "|6|78|200|0.05|0.1|0.0001|0.209|0.183|-|\n",
    "These experiments revealed that modifying hyperparameters can lead to significant improvements in the model's performance. Specifically, we found that increasing the embedding size, decreasing the tolerance, and decreasing the dropout rate can all lead to improved performance. Moreover, increasing the learning rate can speed up the training process, while retaining early stopping can prevent overfitting. These insights can be valuable in selecting appropriate hyperparameters for future experiments.\n"
   ]
  },
  {
   "cell_type": "code",
   "execution_count": 58,
   "metadata": {},
   "outputs": [
    {
     "data": {
      "text/plain": [
       "0"
      ]
     },
     "execution_count": 58,
     "metadata": {},
     "output_type": "execute_result"
    }
   ],
   "source": [
    "del W\n",
    "gc.collect()"
   ]
  },
  {
   "cell_type": "markdown",
   "metadata": {},
   "source": [
    "# Extend to support deeper architectures \n",
    "\n",
    "Extend the network to support back-propagation for more hidden layers. You need to modify the `backward_pass` function above to compute gradients and update the weights between intermediate hidden layers. Finally, train and evaluate a network with a deeper architecture. Do deeper architectures increase performance?"
   ]
  },
  {
   "cell_type": "code",
   "execution_count": 93,
   "metadata": {
    "ExecuteTime": {
     "end_time": "2020-04-02T14:58:51.764619Z",
     "start_time": "2020-04-02T14:58:47.483690Z"
    },
    "scrolled": true
   },
   "outputs": [
    {
     "name": "stdout",
     "output_type": "stream",
     "text": [
      "Shape W0 (9855, 300)\n",
      "Shape W1 (300, 60)\n",
      "Shape W2 (60, 3)\n",
      "For epoch no. 1:\n",
      " Training loss = 1.0904073977205453\n",
      " Validation loss = 1.0835470429698713\n",
      "For epoch no. 2:\n",
      " Training loss = 1.0683178028837397\n",
      " Validation loss = 1.065800126175885\n",
      "For epoch no. 3:\n",
      " Training loss = 1.031747951240885\n",
      " Validation loss = 1.0242542141235624\n",
      "For epoch no. 4:\n",
      " Training loss = 0.9699242424008484\n",
      " Validation loss = 0.9536069160237284\n",
      "For epoch no. 5:\n",
      " Training loss = 0.8773791569292998\n",
      " Validation loss = 0.8660552498066273\n",
      "For epoch no. 6:\n",
      " Training loss = 0.7525390488002102\n",
      " Validation loss = 0.7371910204662908\n",
      "For epoch no. 7:\n",
      " Training loss = 0.6269514847308124\n",
      " Validation loss = 0.6581247178305972\n",
      "For epoch no. 8:\n",
      " Training loss = 0.505625677991914\n",
      " Validation loss = 0.6069301765466671\n",
      "For epoch no. 9:\n",
      " Training loss = 0.41873556322847433\n",
      " Validation loss = 0.507125280774279\n",
      "For epoch no. 10:\n",
      " Training loss = 0.34188897718964223\n",
      " Validation loss = 0.42300718931129244\n",
      "For epoch no. 11:\n",
      " Training loss = 0.2864840089189774\n",
      " Validation loss = 0.40379728292747036\n",
      "For epoch no. 12:\n",
      " Training loss = 0.24529165733031572\n",
      " Validation loss = 0.3763314325506789\n",
      "For epoch no. 13:\n",
      " Training loss = 0.21509846572932784\n",
      " Validation loss = 0.32584063411630865\n",
      "For epoch no. 14:\n",
      " Training loss = 0.18467657428925607\n",
      " Validation loss = 0.31187106754210575\n",
      "For epoch no. 15:\n",
      " Training loss = 0.16261490801847295\n",
      " Validation loss = 0.3006096674558227\n",
      "For epoch no. 16:\n",
      " Training loss = 0.14753155912330498\n",
      " Validation loss = 0.27724778773849346\n",
      "For epoch no. 17:\n",
      " Training loss = 0.1328422176053359\n",
      " Validation loss = 0.2903833989906615\n",
      "For epoch no. 18:\n",
      " Training loss = 0.11829466003477684\n",
      " Validation loss = 0.265171091017501\n",
      "For epoch no. 19:\n",
      " Training loss = 0.10861963508128739\n",
      " Validation loss = 0.2678327278978684\n",
      "For epoch no. 20:\n",
      " Training loss = 0.10575483949232259\n",
      " Validation loss = 0.23721789804504204\n",
      "For epoch no. 21:\n",
      " Training loss = 0.09581765140385896\n",
      " Validation loss = 0.22684371231100253\n",
      "For epoch no. 22:\n",
      " Training loss = 0.0787146353477721\n",
      " Validation loss = 0.2780076189067811\n",
      "For epoch no. 23:\n",
      " Training loss = 0.08700687217209986\n",
      " Validation loss = 0.22864465268161174\n",
      "For epoch no. 24:\n",
      " Training loss = 0.08049197825213504\n",
      " Validation loss = 0.21305223640537996\n",
      "For epoch no. 25:\n",
      " Training loss = 0.07385595322534019\n",
      " Validation loss = 0.2235662828639378\n",
      "For epoch no. 26:\n",
      " Training loss = 0.06963481060082467\n",
      " Validation loss = 0.21409893508349676\n",
      "For epoch no. 27:\n",
      " Training loss = 0.06593387929855672\n",
      " Validation loss = 0.18962027030211806\n",
      "For epoch no. 28:\n",
      " Training loss = 0.06270590021789964\n",
      " Validation loss = 0.24835844635367021\n",
      "For epoch no. 29:\n",
      " Training loss = 0.05838767808317667\n",
      " Validation loss = 0.20733402245314847\n",
      "For epoch no. 30:\n",
      " Training loss = 0.05727786559936547\n",
      " Validation loss = 0.1837914097073553\n",
      "For epoch no. 31:\n",
      " Training loss = 0.05648026943501338\n",
      " Validation loss = 0.2796591104631622\n",
      "For epoch no. 32:\n",
      " Training loss = 0.05200353926769028\n",
      " Validation loss = 0.2044358457773332\n",
      "For epoch no. 33:\n",
      " Training loss = 0.05294114907046588\n",
      " Validation loss = 0.22081144037332456\n",
      "For epoch no. 34:\n",
      " Training loss = 0.048022391864711717\n",
      " Validation loss = 0.2376851923604117\n",
      "For epoch no. 35:\n",
      " Training loss = 0.04756496497573593\n",
      " Validation loss = 0.21054459559485433\n",
      "For epoch no. 36:\n",
      " Training loss = 0.04243550187059789\n",
      " Validation loss = 0.22952282667620189\n",
      "For epoch no. 37:\n",
      " Training loss = 0.04164323938297865\n",
      " Validation loss = 0.21894913561741805\n",
      "For epoch no. 38:\n",
      " Training loss = 0.044674700896508386\n",
      " Validation loss = 0.2026341446365173\n",
      "For epoch no. 39:\n",
      " Training loss = 0.03908045177023369\n",
      " Validation loss = 0.1744407643951558\n",
      "For epoch no. 40:\n",
      " Training loss = 0.041221685414628444\n",
      " Validation loss = 0.2489769683437778\n",
      "For epoch no. 41:\n",
      " Training loss = 0.03763577809414296\n",
      " Validation loss = 0.20217877962411432\n",
      "For epoch no. 42:\n",
      " Training loss = 0.03605173735589715\n",
      " Validation loss = 0.22963178515210086\n",
      "For epoch no. 43:\n",
      " Training loss = 0.03605426169653284\n",
      " Validation loss = 0.19407772936157736\n",
      "For epoch no. 44:\n",
      " Training loss = 0.03622933762835704\n",
      " Validation loss = 0.21607807839664453\n",
      "For epoch no. 45:\n",
      " Training loss = 0.03357116564893767\n",
      " Validation loss = 0.17741627091047416\n",
      "For epoch no. 46:\n",
      " Training loss = 0.033470541516221364\n",
      " Validation loss = 0.18591540116566302\n",
      "For epoch no. 47:\n",
      " Training loss = 0.029739176450105178\n",
      " Validation loss = 0.19120506233185403\n",
      "For epoch no. 48:\n",
      " Training loss = 0.03251596251019622\n",
      " Validation loss = 0.19652638930750763\n",
      "For epoch no. 49:\n",
      " Training loss = 0.03234802815060365\n",
      " Validation loss = 0.18163811238342487\n",
      "For epoch no. 50:\n",
      " Training loss = 0.03061067401967376\n",
      " Validation loss = 0.21195048176933295\n",
      "For epoch no. 51:\n",
      " Training loss = 0.02868973596381216\n",
      " Validation loss = 0.20329661648009906\n",
      "For epoch no. 52:\n",
      " Training loss = 0.029338563631480224\n",
      " Validation loss = 0.21474884992818732\n",
      "For epoch no. 53:\n",
      " Training loss = 0.02881805112331403\n",
      " Validation loss = 0.20228371979686013\n",
      "For epoch no. 54:\n",
      " Training loss = 0.027663585914199772\n",
      " Validation loss = 0.18609414726744947\n",
      "For epoch no. 55:\n",
      " Training loss = 0.02875653145562869\n",
      " Validation loss = 0.1837448599543129\n",
      "For epoch no. 56:\n",
      " Training loss = 0.02784215376831873\n",
      " Validation loss = 0.1904690943245129\n",
      "For epoch no. 57:\n",
      " Training loss = 0.025460112957434403\n",
      " Validation loss = 0.18130690098768598\n",
      "For epoch no. 58:\n",
      " Training loss = 0.023962356698385492\n",
      " Validation loss = 0.1876241794663753\n",
      "For epoch no. 59:\n",
      " Training loss = 0.023076753791822526\n",
      " Validation loss = 0.2018548957619824\n",
      "For epoch no. 60:\n",
      " Training loss = 0.023991091298890706\n",
      " Validation loss = 0.18611932083569785\n",
      "For epoch no. 61:\n",
      " Training loss = 0.022363719018301604\n",
      " Validation loss = 0.18536014661275724\n",
      "[0.9861176105679531, 0.011551947367884957, 0.0023304420641619265]\n"
     ]
    }
   ],
   "source": [
    "W = network_weights(vocab_size=len(vocab),embedding_dim=300,\n",
    "                    hidden_dim=[60], num_classes=3)\n",
    "\n",
    "for i in range(len(W)):\n",
    "    print('Shape W'+str(i), W[i].shape)\n",
    "\n",
    "W[0] = w_glove\n",
    "\n",
    "W, loss_tr, dev_loss = SGD(x_train, y_train,\n",
    "                            W,\n",
    "                            X_dev=x_dev, \n",
    "                            Y_dev=y_dev,\n",
    "                            lr=0.001, \n",
    "                            dropout=0.2,\n",
    "                            freeze_emb=False,\n",
    "                            tolerance=0.001,\n",
    "                            epochs=100)\n",
    "out = forward_pass(x_test[0],W)\n",
    "print(out['y_pred'])"
   ]
  },
  {
   "cell_type": "code",
   "execution_count": 94,
   "metadata": {
    "ExecuteTime": {
     "end_time": "2020-04-02T15:11:51.994986Z",
     "start_time": "2020-04-02T15:11:51.992563Z"
    },
    "scrolled": true
   },
   "outputs": [
    {
     "name": "stdout",
     "output_type": "stream",
     "text": [
      "Accuracy: 0.8922222222222222\n",
      "Precision: 0.8927750562280119\n",
      "Recall: 0.8922222222222222\n",
      "F1-Score: 0.8922839254111402\n"
     ]
    }
   ],
   "source": [
    "preds_te = [np.argmax(forward_pass(x, W, dropout_rate=0.0)['y_pred'])+1 for x in x_test]\n",
    "print('Accuracy:', accuracy_score(y_test,preds_te))\n",
    "print('Precision:', precision_score(y_test,preds_te,average='macro'))\n",
    "print('Recall:', recall_score(y_test,preds_te,average='macro'))\n",
    "print('F1-Score:', f1_score(y_test,preds_te,average='macro'))"
   ]
  },
  {
   "cell_type": "markdown",
   "metadata": {},
   "source": [
    "### Discuss how did you choose model hyperparameters ? "
   ]
  },
  {
   "cell_type": "markdown",
   "metadata": {},
   "source": [
    "The process of hyperparameter tuning involves adjusting the hyperparameters and monitoring the validation results to determine the best configuration. The following table presents the results of several runs with varying hyperparameters, along with comments regarding the observed behaviors:\n",
    "|# Run|# Number of Epochs|Hidden layer sizes|Learning rate|Dropout|Tolerance|Training loss|Validation loss| Comments\n",
    "|:-:|:-:|:-:|:-:|:-:|:-:|:-:|:-:|:-:|\n",
    "|1|78|[100]|0.01|0.1|0.001|0.004|0.231|Deeper network led to overfitting|\n",
    "|2|62|[60,30]|0.01|0.1|0.001|0.004|0.209|Decreasing number of units prevented overfitting|\n",
    "|3|5|[30]|0.01|0.1|0.001|0.051|0.233|Early stopping resulted in suboptimal performance|\n",
    "|4|21|[60]|0.01|0.1|0.001|0.002|0.241|Oscillations were observed and the learning rate was decreased|\n",
    "|5|17|[60]|0.001|0.1|0.001|0.022|0.185|Best performance was achieved with this configuration|\n",
    "The table summarizes the results obtained from different hyperparameter configurations. In particular, it shows the number of epochs, the sizes of the hidden layers, the learning rate, the dropout rate, the tolerance, the training and validation losses, and any comments or observations regarding the model's performance. By analyzing these results, one can identify the optimal hyperparameters for the model.\n"
   ]
  },
  {
   "cell_type": "markdown",
   "metadata": {},
   "source": [
    "## Full Results\n",
    "\n",
    "Add your final results here:\n",
    "\n",
    "| Model | Precision  | Recall  | F1-Score  | Accuracy\n",
    "|:-:|:-:|:-:|:-:|:-:|\n",
    "| Average Embedding  | 0.864  |  0.861 | 0.861 | 0.861  |\n",
    "| Average Embedding (Pre-trained)  | 0.882  | 0.881  |  0.881 |  0.881 |\n",
    "| Average Embedding (Pre-trained) + X hidden layers    |  0.893 | 0.892  | 0.892  | 0.892  |\n",
    "\n",
    "Please discuss why your best performing model is better than the rest and provide a bried error analaysis."
   ]
  },
  {
   "cell_type": "markdown",
   "metadata": {},
   "source": [
    "-The best performing model in this study is achieved by incorporating a pre-trained embedding matrix obtained from a larger dataset and a deeper neural network architecture. The initial model was observed to overfit, which suggests that the training dataset may be insufficient or a deeper network is required. To address this issue, a pre-trained embedding matrix was utilized without further updates, resulting in improved performance. The use of a pre-trained embedding matrix is a common strategy in natural language processing tasks as it allows the model to leverage knowledge learned from a larger dataset.\n",
    "Furthermore, a deeper neural network architecture was implemented in conjunction with the pre-trained embedding matrix to uncover additional latent features and further improve performance on test data. It was observed that an excessively deep network could result in overfitting, which highlights the importance of carefully selecting the network architecture.\n",
    "The error analysis showed that a reduction in the learning rate in conjunction with an increase in the number of units resulted in better performance on the test data. This finding suggests that a smaller learning rate may be more appropriate for this task to prevent the model from overfitting.\n",
    "Overall, the incorporation of a pre-trained embedding matrix and a deeper neural network architecture produced superior results compared to other models. These findings demonstrate the importance of selecting appropriate architectures and hyperparameters in machine learning models to optimize performance. However, it should be noted that the performance of the model is heavily dependent on the quality and quantity of the data used for training, and more data may be required to improve the model's performance further.\n"
   ]
  },
  {
   "cell_type": "markdown",
   "metadata": {},
   "source": [
    "## Error Analysis\n",
    "1. Overview of the datasets"
   ]
  },
  {
   "cell_type": "code",
   "execution_count": 47,
   "metadata": {},
   "outputs": [
    {
     "name": "stdout",
     "output_type": "stream",
     "text": [
      "Training examples: 2400 \n",
      "Development examples 150 \n",
      "Testing examples 900\n",
      "Percentages: (69.56521739130434, 4.3478260869565215, 26.08695652173913)\n",
      "Max no. of features in training 95 \n",
      "Development 42 \n",
      "Testing 54\n",
      "Classes in training set:\n",
      "class 1: 800 examples\n",
      "class 2: 800 examples\n",
      "class 3: 800 examples\n",
      "Classes in development set:\n",
      "class 1: 50 examples\n",
      "class 2: 50 examples\n",
      "class 3: 50 examples\n",
      "Classes in training set:\n",
      "class 1: 300 examples\n",
      "class 2: 300 examples\n",
      "class 3: 300 examples\n"
     ]
    }
   ],
   "source": [
    "m_train, m_dev, m_test = len(y_train),len(y_dev),len(y_test)\n",
    "total = m_train + m_dev + m_test\n",
    "print(\"Training examples: %s \\nDevelopment examples %s \\nTesting examples %s\" %(m_train, m_dev, m_test))\n",
    "print(\"Percentages: (%s, %s, %s)\" %(m_train/total*100,m_dev/total*100,m_test/total*100))\n",
    "print(\"Max no. of features in training %s \\nDevelopment %s \\nTesting %s\" %(max([len(x) for x in x_train]),\n",
    "                                                max([len(x) for x in x_dev]),max([len(x) for x in x_test])))\n",
    "print(\"Classes in training set:\\nclass 1: %s examples\\nclass 2: %s examples\\nclass 3: %s examples\"\n",
    "       %(len([y for y in y_train if y==1]),len([y for y in y_train if y==2]),len([y for y in y_train if y==3])))\n",
    "print(\"Classes in development set:\\nclass 1: %s examples\\nclass 2: %s examples\\nclass 3: %s examples\"\n",
    "       %(len([y for y in y_dev if y==1]),len([y for y in y_dev if y==2]),len([y for y in y_dev if y==3])))\n",
    "print(\"Classes in training set:\\nclass 1: %s examples\\nclass 2: %s examples\\nclass 3: %s examples\"\n",
    "       %(len([y for y in y_test if y==1]),len([y for y in y_test if y==2]),len([y for y in y_test if y==3])))"
   ]
  },
  {
   "cell_type": "markdown",
   "metadata": {},
   "source": [
    "As we understand from the outputs, we understand that the dataset is split to 70% training, 4% development and 26% testing sets, the maximum no. of features are in training set, and the labels are equally distriputed between the 3 classes in each of the datasets (stratified distribution)."
   ]
  },
  {
   "cell_type": "markdown",
   "metadata": {},
   "source": [
    "2. Analyzation of the test performance"
   ]
  },
  {
   "cell_type": "markdown",
   "metadata": {},
   "source": [
    "Our final model reached relativley very good testing scores (presision, recall, accuracy, and F1-score, all above 0.89 which is great), however we can always think of a way to make it even better, we can examine the testing correlation between true and predicted values using scipy.stat tools"
   ]
  },
  {
   "cell_type": "code",
   "execution_count": 97,
   "metadata": {},
   "outputs": [
    {
     "name": "stdout",
     "output_type": "stream",
     "text": [
      "Pearson correlation coeffiection: 0.7698464336630295\n",
      "Spearman correlation: SpearmanrResult(correlation=0.7693654642860066, pvalue=5.778606910234984e-177)\n"
     ]
    }
   ],
   "source": [
    "print(\"Pearson correlation coeffiection: %s\" %pearsonr(y_test,preds_te)[0])\n",
    "print(\"Spearman correlation: \"+str(spearmanr(y_test,preds_te)))"
   ]
  },
  {
   "cell_type": "markdown",
   "metadata": {},
   "source": [
    "We saw that the results are strongly correlated, even though there are wrong predections, this means that maybe some of the labels are strongly correlated to each other rather than other labels.\n",
    "We can also evaluate the confusion matrix to better understand the testing performance."
   ]
  },
  {
   "cell_type": "code",
   "execution_count": 90,
   "metadata": {},
   "outputs": [
    {
     "data": {
      "image/png": "[encoded data removed]",
      "text/plain": [
       "<Figure size 432x288 with 1 Axes>"
      ]
     },
     "metadata": {
      "needs_background": "light"
     },
     "output_type": "display_data"
    }
   ],
   "source": [
    "cm = confusion_matrix(y_test, preds_te)\n",
    "ncm = cm.astype('float')/cm.sum(axis=1)[:,np.newaxis]\n",
    "plt.imshow(ncm,cmap=\"Blues\")\n",
    "plt.title(\"Normalized confusion matrix\")\n",
    "plt.xlabel(\"Predicted label\")\n",
    "plt.ylabel(\"True label\")\n",
    "for i in range(len(ncm)):\n",
    "    for j in range(len(ncm[0])):\n",
    "        plt.text(j,i,np.round(ncm[i,j],2),ha=\"center\",va=\"center\",color=\"k\")\n",
    "plt.xticks([0,1,2],labels=[\"1\",\"2\",\"3\"])\n",
    "plt.yticks([0,1,2],labels=[\"1\",\"2\",\"3\"])\n",
    "plt.show()"
   ]
  },
  {
   "cell_type": "markdown",
   "metadata": {},
   "source": [
    "We can see from the above confussion matrix that the confusion is mostly occurring between the label 1 (which is politics) and the label 3 (which is economy), which actually makes sense, because some keywords may be common between these two topics.\n"
   ]
  },
  {
   "cell_type": "markdown",
   "metadata": {},
   "source": [
    "3. Looking deeply into the mislabeled data"
   ]
  },
  {
   "cell_type": "code",
   "execution_count": 132,
   "metadata": {},
   "outputs": [
    {
     "name": "stdout",
     "output_type": "stream",
     "text": [
      "Mislabeled examples from topic 1: \n",
      "rivals possible fraud government says Chavez defeat produce turmoil world oil market\n",
      "AFP India Company Ltd took step expand Asian announcement buy Asia Pacific steel operations Singapore Ltd\n",
      "The price oil continued sharp rise overnight closing record high The main contract New York light sweet crude delivery next month closed record barrel up cents yesterday close\n",
      "SAN JOSE Calif In sign Google Inc initial public offering isn popular expected company lowered estimated price range between per share down earlier prediction per share\n",
      "NEW YORK Investors shrugged off rising crude futures Wednesday capture well priced shares sending Nasdaq index up percent ahead Google Inc much anticipated initial public offering stock In afternoon trading Dow Jones industrial average gained percent\n",
      "\n",
      "Mislabeled examples from topic 3: \n",
      "urban images giant sense how Houston many residents\n",
      "Vermont Republican governor challenged Bush administration prescription drug policy federal court yesterday first time state chosen legal battle over Canadian imports\n",
      "WASHINGTON Reuters The Food plans update labels suggest link between drugs suicide cautious about strength such ties according documents released Friday\n",
      "Venezuela The results audit support official vote count showing President Hugo Chavez won month recall referendum Venezuela head Organization American States said Saturday\n",
      "Venezuela President Hugo Chavez announced longer Democratic CD opposition coalition\n"
     ]
    }
   ],
   "source": [
    "X_test = np.array(x_test, dtype=object)\n",
    "Y_test = np.array(y_test)\n",
    "Y_pred = np.array(preds_te)\n",
    "y_1 = np.where(Y_test == 1)[0].tolist()\n",
    "y_3 = np.where(Y_test == 3)[0].tolist()\n",
    "ypred_1 = np.where(Y_pred == 1)[0].tolist()\n",
    "ypred_3 = np.where(Y_pred == 3)[0].tolist()\n",
    "mislabeled_1 = [value for value in y_1 if value in ypred_3]\n",
    "mislabeled_3 = [value for value in y_3 if value in ypred_1]\n",
    "X_mislabeled_1_words = [[id_word[id] for id in x] for x in X_test[mislabeled_1]]\n",
    "mislabeled_1 = [' '.join(words) for words in X_mislabeled_1_words]\n",
    "print(\"Mislabeled examples from topic 1: \\n%s\" %'\\n'.join(mislabeled_1[:5]))\n",
    "X_mislabeled_3_words = [[id_word[id] for id in x] for x in X_test[mislabeled_3]]\n",
    "mislabeled_3 = [' '.join(words) for words in X_mislabeled_3_words]\n",
    "print(\"\\nMislabeled examples from topic 3: \\n%s\" %'\\n'.join(mislabeled_3[:5]))"
   ]
  },
  {
   "cell_type": "markdown",
   "metadata": {},
   "source": [
    "From the above results, we can see some words being reused in both topics (politics and economy), like government, policy, federal, democratic, ..etc. These words can be used in both topics and it makes sense."
   ]
  },
  {
   "cell_type": "markdown",
   "metadata": {},
   "source": [
    "4. Suggestions to improve the network performance:\n",
    "- We understood that the misclassification is generally happening between topics 1 and 3\n",
    "- We have known that some words maybe used repeatedly in both topics, and that explains how confusion matrix was\n",
    "- The first obvious suggestion is to increase the training datasets in replace of the test datasets 75%, 20% (and dev remains 4%)\n",
    "- We knew that the labels (1, 2, 3) are equally distriputed through all datasets, so another good suggestion would be to increase the precentage of labels 1, 3 in the training datasets in exchange with other labels (label 2), and not to let it be equally distributed\n",
    "- Another last suggestion is to try deeper architecures to help recognize more features (more words), however it's more preferable to use bigrams in addition to unigrams instead of this step, this will be a more gauranteed effect."
   ]
  }
 ],
 "metadata": {
  "kernelspec": {
   "display_name": "Python 3 (ipykernel)",
   "language": "python",
   "name": "python3"
  },
  "language_info": {
   "codemirror_mode": {
    "name": "ipython",
    "version": 3
   },
   "file_extension": ".py",
   "mimetype": "text/x-python",
   "name": "python",
   "nbconvert_exporter": "python",
   "pygments_lexer": "ipython3",
   "version": "3.9.7"
  }
 },
 "nbformat": 4,
 "nbformat_minor": 2
}
